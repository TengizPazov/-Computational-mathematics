{
 "cells": [
  {
   "cell_type": "markdown",
   "id": "2e5e6834",
   "metadata": {},
   "source": [
    "В данной задаче 2 типа погрешностей:\n",
    "1) Погрешность неустранимая, связаная с погрешностью dt ~ 10^-3\n",
    "2) Погрешность метода -> разложение в ряд Маклорена"
   ]
  },
  {
   "cell_type": "markdown",
   "id": "24738c1e",
   "metadata": {},
   "source": [
    "Погрешность неустранимую можно оценить как |u(b) - u(a)|, но чтобы вычислить значения функции в точке -> требуется разложить в ряд Маклорена, затем отсечь начинаю с n+1 члена и подставить нужню точку. Поэтому итоговая погрешность будет du = du1 + du2"
   ]
  },
  {
   "cell_type": "markdown",
   "id": "e8557409",
   "metadata": {},
   "source": [
    "Для определения погрешности метода воспользуемся разложением с остаточным членом в форме Лагранжа:\n",
    "$|R_{n}| = |\\frac{u^{(n + 1)}(\\xi)}{(n + 1)!} \\cdot t^{n+1}| <= \\frac{M}{(n + 1)!} \\cdot |t|^{n + 1}$, где $\\xi \\in [0, t]$ и $M = max|u^{(n + 1)}(\\xi)|$. Чтобы dt = dt1 + dt2 ~ 0.001, потребуем, чтобы dt1 <= dt/2 и dt2 <= dt/2"
   ]
  },
  {
   "cell_type": "markdown",
   "id": "902c11fc",
   "metadata": {},
   "source": [
    "Тогда получаем, что $\\Delta u \\approx |u'| \\cdot dt$ -> $M \\cdot dt <= dt/2$ -> M <= 0.5, то есть функция должна быть достаточно пологой"
   ]
  },
  {
   "cell_type": "code",
   "execution_count": 1,
   "id": "1eef2983",
   "metadata": {},
   "outputs": [
    {
     "name": "stdout",
     "output_type": "stream",
     "text": [
      "Для отрезка [0, 1] можно отбрасывать члены, начиная с n = 6\n",
      "Для отрезка [10, 11] можно отбрасывать члены, начиная с n = 33\n"
     ]
    }
   ],
   "source": [
    "import math\n",
    "\n",
    "def find_min_n(t_max, delta=1e-3):\n",
    "    \"\"\"\n",
    "    Находит минимальное n, такое что (t_max^(n+1)) / (n+1)! <= delta.\n",
    "    Считаем, что M = 0.5.\n",
    "    \"\"\"\n",
    "    n = 0\n",
    "    while True:\n",
    "        term = (t_max ** (n+1)) / math.factorial(n+1)\n",
    "        if term <= delta:\n",
    "            return n\n",
    "        n += 1\n",
    "n1 = find_min_n(t_max=1, delta=1e-3)\n",
    "print(f\"Для отрезка [0, 1] можно отбрасывать члены, начиная с n = {n1}\")\n",
    "n2 = find_min_n(t_max=11, delta=1e-3)\n",
    "print(f\"Для отрезка [10, 11] можно отбрасывать члены, начиная с n = {n2}\")"
   ]
  }
 ],
 "metadata": {
  "kernelspec": {
   "display_name": "Python 3",
   "language": "python",
   "name": "python3"
  },
  "language_info": {
   "name": "python",
   "version": "3.13.7"
  }
 },
 "nbformat": 4,
 "nbformat_minor": 5
}

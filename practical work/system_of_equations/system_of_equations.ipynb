{
 "cells": [
  {
   "cell_type": "code",
   "execution_count": 1,
   "id": "83df1458",
   "metadata": {},
   "outputs": [],
   "source": [
    "import numpy as np\n",
    "import matplotlib.pyplot as plt"
   ]
  },
  {
   "cell_type": "code",
   "execution_count": 2,
   "id": "d88efa0c",
   "metadata": {},
   "outputs": [],
   "source": [
    "def norm1(A: np.ndarray) -> float:\n",
    "    maximum = 0\n",
    "    n = len(A)\n",
    "    m = len(A[0])\n",
    "    for line in range(n):\n",
    "        if sum(np.abs(A[line])) > maximum:\n",
    "            maximum = sum(A[line])\n",
    "    return maximum\n"
   ]
  },
  {
   "cell_type": "code",
   "execution_count": 3,
   "id": "d9817853",
   "metadata": {},
   "outputs": [],
   "source": [
    "#функция нахождения матрицы F в методе Ньютона\n",
    "def find_F(w0: np.ndarray) -> np.ndarray:\n",
    "    F1 = w0[0]**2 + w0[1]**2 - 1\n",
    "    F2 = w0[1] - np.tan(w0[0])\n",
    "    return np.array([F1, F2])\n",
    "#функция нахождения обратной матрицы Якоби\n",
    "def inverse_Jacobi_matrix(w0: np.ndarray) -> np.ndarray:\n",
    "    det_J = 2 * (w0[0] + w0[1] / (np.cos(w0[0])))\n",
    "    A = np.array([[1, -2 * w0[1]], [1/(np.cos(w0[0]))**2, 2 * w0[0]]])\n",
    "    inverse_J = (1 / det_J) * A\n",
    "    return inverse_J\n"
   ]
  },
  {
   "cell_type": "code",
   "execution_count": 4,
   "id": "d99a448c",
   "metadata": {},
   "outputs": [
    {
     "name": "stdout",
     "output_type": "stream",
     "text": [
      "[0.64988896 0.76002916]\n"
     ]
    }
   ],
   "source": [
    "#для (x1, y1) начальное приближение (x0, y0) = (0.7, 0.7)\n",
    "w0 = np.array([0.7, 0.7])\n",
    "F_now = find_F(w0)\n",
    "w = w0 - inverse_Jacobi_matrix(w0).dot(find_F(w0)) \n",
    "while np.linalg.norm(F_now) >= 10**-6:\n",
    "    w0 = w\n",
    "    F_now = find_F(w0)\n",
    "    w = w0 - inverse_Jacobi_matrix(w0).dot(find_F(w0))\n",
    "print(w)\n"
   ]
  },
  {
   "cell_type": "code",
   "execution_count": 5,
   "id": "81fadba2",
   "metadata": {},
   "outputs": [
    {
     "name": "stdout",
     "output_type": "stream",
     "text": [
      "[-0.64988896 -0.76002916]\n"
     ]
    }
   ],
   "source": [
    "#для (x2, y2) начальное приближение (x0, y0) = (-0.7, -0.7)\n",
    "w0 = np.array([-0.7, -0.7])\n",
    "F_now = find_F(w0)\n",
    "w = w0 - inverse_Jacobi_matrix(w0).dot(find_F(w0)) \n",
    "while np.linalg.norm(F_now) >= 10**-6:\n",
    "    w0 = w\n",
    "    F_now = find_F(w0)\n",
    "    w = w0 - inverse_Jacobi_matrix(w0).dot(find_F(w0))\n",
    "print(w)"
   ]
  }
 ],
 "metadata": {
  "kernelspec": {
   "display_name": ".venv",
   "language": "python",
   "name": "python3"
  },
  "language_info": {
   "codemirror_mode": {
    "name": "ipython",
    "version": 3
   },
   "file_extension": ".py",
   "mimetype": "text/x-python",
   "name": "python",
   "nbconvert_exporter": "python",
   "pygments_lexer": "ipython3",
   "version": "3.13.8"
  }
 },
 "nbformat": 4,
 "nbformat_minor": 5
}

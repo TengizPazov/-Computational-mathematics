{
 "cells": [
  {
   "cell_type": "markdown",
   "id": "10983f2e",
   "metadata": {},
   "source": [
    "Практическая задача 4.12.8\n",
    "Методом простой итерации найти ширину функции на полувысоте с точностью $10^{-3}$"
   ]
  },
  {
   "cell_type": "code",
   "execution_count": 10,
   "id": "0e808d8d",
   "metadata": {},
   "outputs": [],
   "source": [
    "import numpy as np\n",
    "import matplotlib.pyplot as plt"
   ]
  },
  {
   "cell_type": "code",
   "execution_count": 11,
   "id": "983eb4b2",
   "metadata": {},
   "outputs": [
    {
     "data": {
      "image/png": "[encoded data removed]",
      "text/plain": [
       "<Figure size 640x480 with 1 Axes>"
      ]
     },
     "metadata": {},
     "output_type": "display_data"
    },
    {
     "name": "stdout",
     "output_type": "stream",
     "text": [
      "Значение полувысоты 0.214\n"
     ]
    }
   ],
   "source": [
    "#график функции f(x) = x * exp(-x^2)\n",
    "#аргумент f(x_max), x_max = sqrt(0.5) -> f_max = sqrt(0.5) * e^(-0.5)\n",
    "x = np.linspace(0, 5, 1000)\n",
    "y = x * (np.e)**(-x**2)\n",
    "y_line = [(np.sqrt(0.5) * (np.e)**(-0.5)) / 2] * 1000\n",
    "plt.plot(x, y, linestyle = '-', linewidth = 1, label=\"ls = '-',   lw = 1\", color='black')\n",
    "plt.plot(x, y_line, linestyle = '-', linewidth = 1, label=\"ls = '-',   lw = 1\", color='black')\n",
    "plt.title('График зависимости f(x), пересеченный с y = const')\n",
    "plt.show()\n",
    "print('Значение полувысоты', round((np.sqrt(0.5) * (np.e)**(-0.5)) / 2, 3))"
   ]
  },
  {
   "cell_type": "markdown",
   "id": "93767520",
   "metadata": {},
   "source": [
    "Метод простой итерации"
   ]
  },
  {
   "cell_type": "markdown",
   "id": "22a37dcf",
   "metadata": {},
   "source": [
    "На корни получили уравнение: $x \\cdot e^{-x^{2}} = 0.214$ => $x = 0.214 \\cdot e^{x^{2}}$(для левого корня)\n",
    "для сходимости метода требуется выполнение условия: |f'(x)| < 1, поэтому в данном случае такая f(x) подходит для левого корня."
   ]
  },
  {
   "cell_type": "code",
   "execution_count": 12,
   "id": "dd98bcdf",
   "metadata": {},
   "outputs": [
    {
     "name": "stdout",
     "output_type": "stream",
     "text": [
      "0.22513135400649073\n"
     ]
    }
   ],
   "source": [
    "#ищем первый корень\n",
    "#приближенное значение x0 = 0.5\n",
    "x0 = 0.5\n",
    "epsilon1 = 10**-3 / 2\n",
    "x = 0.214 * (np.e)**(x0**2)\n",
    "while abs(x - x0) >= epsilon1:\n",
    "    x0 = x\n",
    "    x = 0.214 * (np.e)**(x**2)\n",
    "print(x)"
   ]
  },
  {
   "cell_type": "markdown",
   "id": "f421890c",
   "metadata": {},
   "source": [
    "Правый корень ищем подбирая правую функцию как $x^{k + 1} = \\sqrt{\\ln{(x^{k} / 0.214)}}$, что выполняется при x > 0.3"
   ]
  },
  {
   "cell_type": "code",
   "execution_count": 13,
   "id": "d192ccfe",
   "metadata": {},
   "outputs": [
    {
     "name": "stdout",
     "output_type": "stream",
     "text": [
      "1.3597649233626379\n"
     ]
    }
   ],
   "source": [
    "#ищем первый корень\n",
    "#приближенное значение x0 = 0.5\n",
    "x0 = 0.5\n",
    "epsilon1 = 10**-3 / 2\n",
    "x = np.sqrt(np.log(x0 / 0.214))\n",
    "while abs(x - x0) >= epsilon1:\n",
    "    x0 = x\n",
    "    x = np.sqrt(np.log(x0 / 0.214))\n",
    "print(x)"
   ]
  },
  {
   "cell_type": "code",
   "execution_count": 14,
   "id": "fbf0da88",
   "metadata": {},
   "outputs": [
    {
     "name": "stdout",
     "output_type": "stream",
     "text": [
      "Ширина на полувысоте = 1.1346335693561471\n"
     ]
    }
   ],
   "source": [
    "print('Ширина на полувысоте =', 1.3597649233626379 - 0.22513135400649073)"
   ]
  }
 ],
 "metadata": {
  "kernelspec": {
   "display_name": ".venv",
   "language": "python",
   "name": "python3"
  },
  "language_info": {
   "codemirror_mode": {
    "name": "ipython",
    "version": 3
   },
   "file_extension": ".py",
   "mimetype": "text/x-python",
   "name": "python",
   "nbconvert_exporter": "python",
   "pygments_lexer": "ipython3",
   "version": "3.13.8"
  }
 },
 "nbformat": 4,
 "nbformat_minor": 5
}

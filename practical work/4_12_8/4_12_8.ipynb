{
 "cells": [
  {
   "cell_type": "markdown",
   "id": "10983f2e",
   "metadata": {},
   "source": [
    "Практическая задача 4.12.8\n",
    "Методом простой итерации найти ширину функции на полувысоте с точностью $10^{-3}$"
   ]
  },
  {
   "cell_type": "code",
   "execution_count": 1,
   "id": "0e808d8d",
   "metadata": {},
   "outputs": [],
   "source": [
    "import numpy as np\n",
    "import matplotlib.pyplot as plt"
   ]
  }
 ],
 "metadata": {
  "kernelspec": {
   "display_name": ".venv",
   "language": "python",
   "name": "python3"
  },
  "language_info": {
   "codemirror_mode": {
    "name": "ipython",
    "version": 3
   },
   "file_extension": ".py",
   "mimetype": "text/x-python",
   "name": "python",
   "nbconvert_exporter": "python",
   "pygments_lexer": "ipython3",
   "version": "3.13.7"
  }
 },
 "nbformat": 4,
 "nbformat_minor": 5
}

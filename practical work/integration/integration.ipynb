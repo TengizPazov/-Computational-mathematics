{
 "cells": [
  {
   "cell_type": "markdown",
   "id": "5206b7c9",
   "metadata": {},
   "source": [
    "$f(x) = \\int_{0}^{3} \\sin(100x) \\cdot e^{-x^{2}} \\cdot \\cos(2x) \\,dx$"
   ]
  },
  {
   "cell_type": "code",
   "execution_count": 69,
   "id": "a4373af8",
   "metadata": {},
   "outputs": [
    {
     "name": "stdout",
     "output_type": "stream",
     "text": [
      "[ 0.          0.001       0.002      ... -0.00011847 -0.00011847\n",
      " -0.00011847]\n"
     ]
    }
   ],
   "source": [
    "import numpy as np\n",
    "#сетка\n",
    "a = 0\n",
    "b = 3\n",
    "x = np.arange(0, 3.00001, 0.00001)\n",
    "y = np.sin(100 * x) * np.e**(-x**2) * np.cos(2 * x)\n",
    "print(y)"
   ]
  },
  {
   "cell_type": "markdown",
   "id": "c76a4ef4",
   "metadata": {},
   "source": [
    "Метод трапеций"
   ]
  },
  {
   "cell_type": "code",
   "execution_count": 70,
   "id": "643a3d3a",
   "metadata": {},
   "outputs": [],
   "source": [
    "def trapezoid_method(x: np.ndarray, y: np.ndarray) -> float:\n",
    "    result = 0\n",
    "    for i in range(len(x) - 1):\n",
    "        result += (x[i + 1] - x[i]) * (y[i + 1] + y[i]) / 2\n",
    "    return result"
   ]
  },
  {
   "cell_type": "code",
   "execution_count": 71,
   "id": "2ac3e609",
   "metadata": {},
   "outputs": [
    {
     "name": "stdout",
     "output_type": "stream",
     "text": [
      "0.01000609702700184\n"
     ]
    }
   ],
   "source": [
    "#применение trapezoid_method\n",
    "print(trapezoid_method(x, y))"
   ]
  },
  {
   "cell_type": "markdown",
   "id": "33a0adf9",
   "metadata": {},
   "source": [
    "Метод Симпсона"
   ]
  },
  {
   "cell_type": "code",
   "execution_count": 72,
   "id": "cfb04289",
   "metadata": {},
   "outputs": [],
   "source": [
    "def simpson(x: np.ndarray, y: np.ndarray) -> float:\n",
    "    result = 0\n",
    "    for i in range(len(x) - 2):\n",
    "        result += (x[i + 2] - x[i]) * (y[i] + 4 * y[i + 1] + y[i + 2]) / 6\n",
    "    return result"
   ]
  },
  {
   "cell_type": "code",
   "execution_count": 73,
   "id": "cc95b306",
   "metadata": {},
   "outputs": [
    {
     "name": "stdout",
     "output_type": "stream",
     "text": [
      "0.020012191905337255\n"
     ]
    }
   ],
   "source": [
    "#применение Simpson's method\n",
    "print(simpson(x, y))"
   ]
  },
  {
   "cell_type": "markdown",
   "id": "bd9bab1b",
   "metadata": {},
   "source": [
    "Правило 3/8"
   ]
  },
  {
   "cell_type": "code",
   "execution_count": 74,
   "id": "9de46c83",
   "metadata": {},
   "outputs": [],
   "source": [
    "def three_eighths_rule(x: np.ndarray, y: np.ndarray) -> float:\n",
    "    result = 0\n",
    "    for i in range(len(x) - 3):\n",
    "        result += (x[i + 3] - x[i]) * (y[i] + 3 * y[i + 1] + 3 * y[i + 2] + y[i + 3]) / 8\n",
    "    return result"
   ]
  },
  {
   "cell_type": "code",
   "execution_count": 75,
   "id": "5ab94059",
   "metadata": {},
   "outputs": [
    {
     "name": "stdout",
     "output_type": "stream",
     "text": [
      "0.030018272135060888\n"
     ]
    }
   ],
   "source": [
    "#применение правила 3/8\n",
    "print(three_eighths_rule(x, y))"
   ]
  }
 ],
 "metadata": {
  "kernelspec": {
   "display_name": ".venv",
   "language": "python",
   "name": "python3"
  },
  "language_info": {
   "codemirror_mode": {
    "name": "ipython",
    "version": 3
   },
   "file_extension": ".py",
   "mimetype": "text/x-python",
   "name": "python",
   "nbconvert_exporter": "python",
   "pygments_lexer": "ipython3",
   "version": "3.13.7"
  }
 },
 "nbformat": 4,
 "nbformat_minor": 5
}

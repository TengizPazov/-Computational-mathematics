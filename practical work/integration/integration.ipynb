{
 "cells": [
  {
   "cell_type": "markdown",
   "id": "5206b7c9",
   "metadata": {},
   "source": [
    "$f(x) = \\int_{0}^{3} \\sin(100x) \\cdot e^{-x^{2}} \\cdot \\cos(2x) \\,dx$"
   ]
  },
  {
   "cell_type": "code",
   "execution_count": 114,
   "id": "a4373af8",
   "metadata": {},
   "outputs": [
    {
     "name": "stdout",
     "output_type": "stream",
     "text": [
      "300001\n"
     ]
    }
   ],
   "source": [
    "import numpy as np\n",
    "#сетка\n",
    "a = 0\n",
    "b = 3\n",
    "x = np.arange(0, 3.00001, 0.00001)\n",
    "print(len(x))"
   ]
  },
  {
   "cell_type": "code",
   "execution_count": 115,
   "id": "8448788a",
   "metadata": {},
   "outputs": [],
   "source": [
    "def f_x(x):\n",
    "    return np.sin(100 * x) * np.e**(-x**2) * np.cos(2 * x)"
   ]
  },
  {
   "cell_type": "markdown",
   "id": "c76a4ef4",
   "metadata": {},
   "source": [
    "Метод трапеций"
   ]
  },
  {
   "cell_type": "code",
   "execution_count": 116,
   "id": "643a3d3a",
   "metadata": {},
   "outputs": [],
   "source": [
    "def trapezoid_method(x: np.ndarray) -> float:\n",
    "    result = 0\n",
    "    for i in range(len(x) - 1):\n",
    "        result += (x[1] - x[0]) * (f_x(x[i + 1]) + f_x(x[i])) / 2\n",
    "    return result"
   ]
  },
  {
   "cell_type": "code",
   "execution_count": 117,
   "id": "89c5a781",
   "metadata": {},
   "outputs": [
    {
     "name": "stdout",
     "output_type": "stream",
     "text": [
      "Requirement already satisfied: torch in d:\\5sem\\computational_mathematics\\.venv\\lib\\site-packages (2.8.0)\n",
      "Requirement already satisfied: filelock in d:\\5sem\\computational_mathematics\\.venv\\lib\\site-packages (from torch) (3.20.0)\n",
      "Requirement already satisfied: typing-extensions>=4.10.0 in d:\\5sem\\computational_mathematics\\.venv\\lib\\site-packages (from torch) (4.15.0)\n",
      "Requirement already satisfied: sympy>=1.13.3 in d:\\5sem\\computational_mathematics\\.venv\\lib\\site-packages (from torch) (1.14.0)\n",
      "Requirement already satisfied: networkx in d:\\5sem\\computational_mathematics\\.venv\\lib\\site-packages (from torch) (3.5)\n",
      "Requirement already satisfied: jinja2 in d:\\5sem\\computational_mathematics\\.venv\\lib\\site-packages (from torch) (3.1.6)\n",
      "Requirement already satisfied: fsspec in d:\\5sem\\computational_mathematics\\.venv\\lib\\site-packages (from torch) (2025.9.0)\n",
      "Requirement already satisfied: setuptools in d:\\5sem\\computational_mathematics\\.venv\\lib\\site-packages (from torch) (80.9.0)\n",
      "Requirement already satisfied: mpmath<1.4,>=1.1.0 in d:\\5sem\\computational_mathematics\\.venv\\lib\\site-packages (from sympy>=1.13.3->torch) (1.3.0)\n",
      "Requirement already satisfied: MarkupSafe>=2.0 in d:\\5sem\\computational_mathematics\\.venv\\lib\\site-packages (from jinja2->torch) (3.0.3)\n"
     ]
    }
   ],
   "source": [
    "!pip3 install torch"
   ]
  },
  {
   "cell_type": "markdown",
   "id": "9d16e035",
   "metadata": {},
   "source": [
    "Using Pytorch"
   ]
  },
  {
   "cell_type": "code",
   "execution_count": 118,
   "id": "b807d299",
   "metadata": {},
   "outputs": [],
   "source": [
    "import torch\n",
    "\n",
    "def trapezoid_method_pytorch(x: torch.Tensor) -> float:\n",
    "    h = x[1] - x[0]\n",
    "    y = f_x(x)\n",
    "    result = torch.sum((y[1:] + y[:-1])) * h / 2\n",
    "    return result.item()"
   ]
  },
  {
   "cell_type": "code",
   "execution_count": 119,
   "id": "2ac3e609",
   "metadata": {},
   "outputs": [
    {
     "name": "stdout",
     "output_type": "stream",
     "text": [
      "0.01000609702700175\n",
      "0.010006097027001552\n"
     ]
    },
    {
     "name": "stderr",
     "output_type": "stream",
     "text": [
      "C:\\Users\\tengi\\AppData\\Local\\Temp\\ipykernel_21860\\311358885.py:2: DeprecationWarning: __array_wrap__ must accept context and return_scalar arguments (positionally) in the future. (Deprecated NumPy 2.0)\n",
      "  return np.sin(100 * x) * np.e**(-x**2) * np.cos(2 * x)\n"
     ]
    }
   ],
   "source": [
    "#применение trapezoid_method\n",
    "x_torch = torch.from_numpy(x)\n",
    "print(trapezoid_method(x))\n",
    "print(trapezoid_method_pytorch(x_torch))"
   ]
  },
  {
   "cell_type": "markdown",
   "id": "33a0adf9",
   "metadata": {},
   "source": [
    "Метод Симпсона"
   ]
  },
  {
   "cell_type": "code",
   "execution_count": 120,
   "id": "cfb04289",
   "metadata": {},
   "outputs": [],
   "source": [
    "def simpson(x: np.ndarray) -> float:\n",
    "    result = 0\n",
    "    if len(x) % 2 == 0:\n",
    "        raise ValueError(\"Для метода Симпсона нужно нечетное количество точек\")\n",
    "    h = x[1] - x[0]\n",
    "    for i in range(len(x) - 1):\n",
    "        result += (h / 6) * (f_x(x[i]) + 4 * f_x((x[i] + x[i + 1]) / 2) + f_x(x[i + 1]))\n",
    "    return result"
   ]
  },
  {
   "cell_type": "code",
   "execution_count": 121,
   "id": "cc95b306",
   "metadata": {},
   "outputs": [
    {
     "name": "stdout",
     "output_type": "stream",
     "text": [
      "0.010006097860331863\n"
     ]
    }
   ],
   "source": [
    "#применение Simpson's method\n",
    "print(simpson(x))"
   ]
  },
  {
   "cell_type": "markdown",
   "id": "bd9bab1b",
   "metadata": {},
   "source": [
    "Правило 3/8"
   ]
  },
  {
   "cell_type": "code",
   "execution_count": 134,
   "id": "9de46c83",
   "metadata": {},
   "outputs": [],
   "source": [
    "def three_eighths_rule(x: np.ndarray) -> float:\n",
    "    result = 0\n",
    "    if len(x) % 2 == 0:\n",
    "        raise ValueError(\"Количество интервалов должно быть кратно 3\")\n",
    "    h = x[1] - x[0]\n",
    "    for i in range(len(x) - 1):\n",
    "        result += (h / 8) * (f_x(x[i]) + 3 * f_x((2 * x[i] + x[i + 1]) / 3) + 3 * f_x((x[i] + 2 * x[i + 1]) / 3) + f_x(x[i + 1]))\n",
    "    return result"
   ]
  },
  {
   "cell_type": "code",
   "execution_count": 140,
   "id": "5ab94059",
   "metadata": {},
   "outputs": [
    {
     "name": "stdout",
     "output_type": "stream",
     "text": [
      "30000001\n"
     ]
    },
    {
     "ename": "KeyboardInterrupt",
     "evalue": "",
     "output_type": "error",
     "traceback": [
      "\u001b[31m---------------------------------------------------------------------------\u001b[39m",
      "\u001b[31mKeyboardInterrupt\u001b[39m                         Traceback (most recent call last)",
      "\u001b[36mCell\u001b[39m\u001b[36m \u001b[39m\u001b[32mIn[140]\u001b[39m\u001b[32m, line 4\u001b[39m\n\u001b[32m      2\u001b[39m x_for_three_eights = np.arange(\u001b[32m0\u001b[39m, \u001b[32m3.0000001\u001b[39m, \u001b[32m0.0000001\u001b[39m)\n\u001b[32m      3\u001b[39m \u001b[38;5;28mprint\u001b[39m(\u001b[38;5;28mlen\u001b[39m(x_for_three_eights))\n\u001b[32m----> \u001b[39m\u001b[32m4\u001b[39m \u001b[38;5;28mprint\u001b[39m(\u001b[43mthree_eighths_rule\u001b[49m\u001b[43m(\u001b[49m\u001b[43mx_for_three_eights\u001b[49m\u001b[43m)\u001b[49m)\n",
      "\u001b[36mCell\u001b[39m\u001b[36m \u001b[39m\u001b[32mIn[134]\u001b[39m\u001b[32m, line 7\u001b[39m, in \u001b[36mthree_eighths_rule\u001b[39m\u001b[34m(x)\u001b[39m\n\u001b[32m      5\u001b[39m h = x[\u001b[32m1\u001b[39m] - x[\u001b[32m0\u001b[39m]\n\u001b[32m      6\u001b[39m \u001b[38;5;28;01mfor\u001b[39;00m i \u001b[38;5;129;01min\u001b[39;00m \u001b[38;5;28mrange\u001b[39m(\u001b[38;5;28mlen\u001b[39m(x) - \u001b[32m1\u001b[39m):\n\u001b[32m----> \u001b[39m\u001b[32m7\u001b[39m     result += (h / \u001b[32m8\u001b[39m) * (f_x(x[i]) + \u001b[32m3\u001b[39m * \u001b[43mf_x\u001b[49m\u001b[43m(\u001b[49m\u001b[43m(\u001b[49m\u001b[32;43m2\u001b[39;49m\u001b[43m \u001b[49m\u001b[43m*\u001b[49m\u001b[43m \u001b[49m\u001b[43mx\u001b[49m\u001b[43m[\u001b[49m\u001b[43mi\u001b[49m\u001b[43m]\u001b[49m\u001b[43m \u001b[49m\u001b[43m+\u001b[49m\u001b[43m \u001b[49m\u001b[43mx\u001b[49m\u001b[43m[\u001b[49m\u001b[43mi\u001b[49m\u001b[43m \u001b[49m\u001b[43m+\u001b[49m\u001b[43m \u001b[49m\u001b[32;43m1\u001b[39;49m\u001b[43m]\u001b[49m\u001b[43m)\u001b[49m\u001b[43m \u001b[49m\u001b[43m/\u001b[49m\u001b[43m \u001b[49m\u001b[32;43m3\u001b[39;49m\u001b[43m)\u001b[49m + \u001b[32m3\u001b[39m * f_x((x[i] + \u001b[32m2\u001b[39m * x[i + \u001b[32m1\u001b[39m]) / \u001b[32m3\u001b[39m) + f_x(x[i + \u001b[32m1\u001b[39m]))\n\u001b[32m      8\u001b[39m \u001b[38;5;28;01mreturn\u001b[39;00m result\n",
      "\u001b[36mCell\u001b[39m\u001b[36m \u001b[39m\u001b[32mIn[115]\u001b[39m\u001b[32m, line 2\u001b[39m, in \u001b[36mf_x\u001b[39m\u001b[34m(x)\u001b[39m\n\u001b[32m      1\u001b[39m \u001b[38;5;28;01mdef\u001b[39;00m\u001b[38;5;250m \u001b[39m\u001b[34mf_x\u001b[39m(x):\n\u001b[32m----> \u001b[39m\u001b[32m2\u001b[39m     \u001b[38;5;28;01mreturn\u001b[39;00m \u001b[43mnp\u001b[49m\u001b[43m.\u001b[49m\u001b[43msin\u001b[49m\u001b[43m(\u001b[49m\u001b[32;43m100\u001b[39;49m\u001b[43m \u001b[49m\u001b[43m*\u001b[49m\u001b[43m \u001b[49m\u001b[43mx\u001b[49m\u001b[43m)\u001b[49m * np.e**(-x**\u001b[32m2\u001b[39m) * np.cos(\u001b[32m2\u001b[39m * x)\n",
      "\u001b[31mKeyboardInterrupt\u001b[39m: "
     ]
    }
   ],
   "source": [
    "#применение правила 3/8\n",
    "x_for_three_eights = np.arange(0, 3.0000001, 0.0000001)\n",
    "print(len(x_for_three_eights))\n",
    "print(three_eighths_rule(x_for_three_eights))"
   ]
  }
 ],
 "metadata": {
  "kernelspec": {
   "display_name": ".venv",
   "language": "python",
   "name": "python3"
  },
  "language_info": {
   "codemirror_mode": {
    "name": "ipython",
    "version": 3
   },
   "file_extension": ".py",
   "mimetype": "text/x-python",
   "name": "python",
   "nbconvert_exporter": "python",
   "pygments_lexer": "ipython3",
   "version": "3.13.8"
  }
 },
 "nbformat": 4,
 "nbformat_minor": 5
}

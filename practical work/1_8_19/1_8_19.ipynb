{
 "cells": [
  {
   "cell_type": "markdown",
   "id": "2e5e6834",
   "metadata": {},
   "source": [
    "В данной задаче 2 типа погрешностей:\n",
    "1) Погрешность неустранимая, связаная с погрешностью dt ~ 10^-3\n",
    "2) Погрешность метода -> разложение в ряд Маклорена"
   ]
  },
  {
   "cell_type": "markdown",
   "id": "24738c1e",
   "metadata": {},
   "source": [
    "Погрешность неустранимую можно оценить как |u(b) - u(a)|, но чтобы вычислить значения функции в точке -> требуется разложить в ряд Маклорена, затем отсечь начинаю с n+1 члена и подставить нужню точку. Поэтому итоговая погрешность будет du = du1 + du2"
   ]
  },
  {
   "cell_type": "markdown",
   "id": "e8557409",
   "metadata": {},
   "source": [
    "Для определения погрешности метода воспользуемся разложением с остаточным членом в форме Лагранжа:\n",
    "$|R_{n}| = |\\frac{u^{(n + 1)}(\\xi)}{(n + 1)!} \\cdot t^{n+1}| <= \\frac{M}{(n + 1)!} \\cdot |t|^{n + 1}$, где $\\xi \\in [0, t]$ и $M = max|u^{(n + 1)}(\\xi)|$."
   ]
  },
  {
   "cell_type": "markdown",
   "id": "b5a65c82",
   "metadata": {},
   "source": [
    "Но по условию существует неустранимая погрешность аргумента. Поэтому общая погрешность\n",
    "$\\Delta_{общ} = \\Delta_{метода} + \\Delta_{неустр}$, safety_factor вводится так как:\n",
    "$\\Delta_{метода} = \\Delta_{общ} - \\Delta_{неустр}$ и величины справа одного порядка"
   ]
  },
  {
   "cell_type": "code",
   "execution_count": 30,
   "id": "1eef2983",
   "metadata": {},
   "outputs": [
    {
     "name": "stdout",
     "output_type": "stream",
     "text": [
      "Для отрезка [0, 1] можно отбрасывать члены, начиная с n = 7\n",
      "Для отрезка [0, 1] можно отбрасывать члены, начиная с n = 7\n"
     ]
    }
   ],
   "source": [
    "import math\n",
    "\n",
    "def find_min_n_sin(t_max, delta=1e-3, safety_factor = 0.1):\n",
    "    \"\"\"Для sin(t): M = 1 всегда\"\"\"\n",
    "    n = 0\n",
    "    while True:\n",
    "        term = (t_max ** (n+1)) / math.factorial(n+1)\n",
    "        if term <= delta * safety_factor:\n",
    "            return n\n",
    "        n += 1\n",
    "def find_min_n_exp(t_max, delta=1e-3, safety_factor = 0.1):\n",
    "    \"\"\"Для e^t: M = e^t (наихудший случай)\"\"\"\n",
    "    n = 0\n",
    "    M = math.exp(t_max)  # Максимальное значение производной\n",
    "    while True:\n",
    "        term = M * (t_max ** (n+1)) / math.factorial(n+1)\n",
    "        if term <= delta * safety_factor:\n",
    "            return n\n",
    "        n += 1\n",
    "n1 = find_min_n_sin(t_max=1, delta=1e-3)\n",
    "print(f\"Для отрезка [0, 1] можно отбрасывать члены, начиная с n = {n1}\")\n",
    "n2 = find_min_n_exp(t_max=1, delta=1e-3)\n",
    "print(f\"Для отрезка [0, 1] можно отбрасывать члены, начиная с n = {n2}\")"
   ]
  },
  {
   "cell_type": "markdown",
   "id": "a21bb16c",
   "metadata": {},
   "source": [
    "Видно что на отрезке [10, 11] требуется гораздо больше членов членов разложения чтобы добиться нужно точности. Также из графика(см. 1_8_19_errors) видно что метод не сходится."
   ]
  },
  {
   "cell_type": "markdown",
   "id": "6b59d4c3",
   "metadata": {},
   "source": [
    "Поэтому предлагается для sin(t) сдвинуть точку разложения в середину отрезка, то есть t_opt = (t_max - t_min) / 2 = 10.5\n",
    "Тогда получаем следующую оценку для ошибки метода:\n",
    "$|R_{n}| = |\\frac{u^{(n + 1)}(\\xi)}{(n + 1)!} \\cdot (t - t_{opt})^{n+1}| <= \\frac{M}{(n + 1)!} \\cdot |t-t_{opt}|^{n + 1}$"
   ]
  },
  {
   "cell_type": "code",
   "execution_count": 32,
   "id": "0c0f0ab0",
   "metadata": {},
   "outputs": [
    {
     "name": "stdout",
     "output_type": "stream",
     "text": [
      "Для отрезка [10, 11] можно отбрасывать члены, начиная с n = 5\n",
      "Для отрезка [10, 11] можно отбрасывать члены, начиная с n = 35\n"
     ]
    }
   ],
   "source": [
    "def find_min_n_sin_optimal(t_max, delta=1e-3, safety_factor = 0.1):\n",
    "    \"\"\"Для sin(t): M = 1 всегда\"\"\"\n",
    "    '''Рассматриваем отрезок [10, 11]'''\n",
    "    n = 0\n",
    "    while True:\n",
    "        term = ((t_max - 10.5) ** (n+1)) / math.factorial(n+1)\n",
    "        if term <= delta * safety_factor:\n",
    "            return n\n",
    "        n += 1\n",
    "def find_min_n_sin(t_max, delta=1e-3, safety_factor = 0.1):\n",
    "    \"\"\"Для sin(t): M = 1 всегда\"\"\"\n",
    "    n = 0\n",
    "    while True:\n",
    "        term = (t_max ** (n+1)) / math.factorial(n+1)\n",
    "        if term <= delta * safety_factor:\n",
    "            return n\n",
    "        n += 1\n",
    "n_1 = find_min_n_sin_optimal(11, delta=1e-3)\n",
    "n_2 = find_min_n_sin(11, delta=1e-3)\n",
    "print(f\"Для отрезка [10, 11] можно отбрасывать члены, начиная с n = {n_1}\")\n",
    "print(f\"Для отрезка [10, 11] можно отбрасывать члены, начиная с n = {n_2}\")"
   ]
  },
  {
   "cell_type": "markdown",
   "id": "72a6bc90",
   "metadata": {},
   "source": [
    "То есть метод сходится в оптимальном случае для синуса"
   ]
  },
  {
   "cell_type": "code",
   "execution_count": 8,
   "id": "b67440ba",
   "metadata": {},
   "outputs": [
    {
     "name": "stdout",
     "output_type": "stream",
     "text": [
      "Для отрезка [10, 11] можно отбрасывать члены, начиная с n = 9\n",
      "Для отрезка [10, 11] можно отбрасывать члены, начиная с n = 44\n"
     ]
    }
   ],
   "source": [
    "def find_min_n_exp(t_max, delta=1e-3, safety_factor = 0.1):\n",
    "    \"\"\"Для e^t: M = e^t (наихудший случай)\"\"\"\n",
    "    n = 0\n",
    "    M = math.exp(t_max)  # Максимальное значение производной\n",
    "    while True:\n",
    "        term = M * (t_max ** (n+1)) / math.factorial(n+1)\n",
    "        if term <= delta * safety_factor:\n",
    "            return n\n",
    "        n += 1\n",
    "def find_min_n_exp_optimal(t_max, delta=1e-3, safety_factor = 0.1):\n",
    "    \"\"\"Для e^t: M = e^t (наихудший случай)\"\"\"\n",
    "    n = 0\n",
    "    t_opt = 10.5\n",
    "    M = math.exp(t_max)  # Максимальное значение производной\n",
    "    while True:\n",
    "        term = M * ((t_max - t_opt) ** (n+1)) / math.factorial(n+1)\n",
    "        if term <= delta * safety_factor:\n",
    "            return n\n",
    "        n += 1\n",
    "n_1 = find_min_n_exp_optimal(11, delta=1e-3)\n",
    "n_2 = find_min_n_exp(11, delta=1e-3)\n",
    "print(f\"Для отрезка [10, 11] можно отбрасывать члены, начиная с n = {n_1}\")\n",
    "print(f\"Для отрезка [10, 11] можно отбрасывать члены, начиная с n = {n_2}\")"
   ]
  },
  {
   "cell_type": "markdown",
   "id": "1c6acd5d",
   "metadata": {},
   "source": [
    "Для предложенного метода видно, что n сильно отличаются в меньшую сторону"
   ]
  },
  {
   "cell_type": "markdown",
   "id": "22eb9b7b",
   "metadata": {},
   "source": [
    "Построим график зависимости номера, начиная с которого можно отрбрасывать члены от safety_factor "
   ]
  },
  {
   "cell_type": "code",
   "execution_count": 5,
   "id": "8d81b3e8",
   "metadata": {},
   "outputs": [
    {
     "data": {
      "image/png": "[encoded data removed]",
      "text/plain": [
       "<Figure size 640x480 with 1 Axes>"
      ]
     },
     "metadata": {},
     "output_type": "display_data"
    }
   ],
   "source": [
    "import matplotlib.pyplot as plt\n",
    "def find_min_n_sin(t_max, delta=1e-3, safety_factor = 0.1):\n",
    "    \"\"\"Для sin(t): M = 1 всегда\"\"\"\n",
    "    n = 0\n",
    "    while True:\n",
    "        term = (t_max ** (n+1)) / math.factorial(n+1)\n",
    "        if term <= delta * safety_factor:\n",
    "            return n\n",
    "        n += 1\n",
    "num_safety_factor = [10**-1, 2 * 10**-1, 3 * 10**-1, 4 * 10**-1, 2 * 10**-2, 10**-3, 10**-4, 10**-5, 10**-6]\n",
    "n = []\n",
    "for i in range(9):\n",
    "    n.append(find_min_n_sin(t_max=1, delta=1e-3, safety_factor=num_safety_factor[i]))\n",
    "plt.scatter(num_safety_factor, n, color='black', marker='o')\n",
    "plt.show()"
   ]
  }
 ],
 "metadata": {
  "kernelspec": {
   "display_name": ".venv",
   "language": "python",
   "name": "python3"
  },
  "language_info": {
   "codemirror_mode": {
    "name": "ipython",
    "version": 3
   },
   "file_extension": ".py",
   "mimetype": "text/x-python",
   "name": "python",
   "nbconvert_exporter": "python",
   "pygments_lexer": "ipython3",
   "version": "3.13.7"
  }
 },
 "nbformat": 4,
 "nbformat_minor": 5
}
